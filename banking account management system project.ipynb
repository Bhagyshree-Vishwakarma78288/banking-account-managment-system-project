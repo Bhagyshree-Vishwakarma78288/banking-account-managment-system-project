{
 "cells": [
  {
   "cell_type": "code",
   "execution_count": null,
   "id": "78b75f40",
   "metadata": {},
   "outputs": [],
   "source": [
    "# need some requirments for the opening of accounts"
   ]
  },
  {
   "cell_type": "code",
   "execution_count": null,
   "id": "d763b3e1",
   "metadata": {},
   "outputs": [],
   "source": [
    "1. account holder name \n",
    "2. ifsc code\n",
    "3. cif number \n",
    "4. type of account number\n",
    "5. address\n",
    "6. contect number\n",
    "7. balance\n",
    "\n",
    "transaction \n",
    "deposit\n"
   ]
  },
  {
   "cell_type": "code",
   "execution_count": 32,
   "id": "1958d79b",
   "metadata": {
    "ExecuteTime": {
     "end_time": "2024-05-14T08:52:15.920634Z",
     "start_time": "2024-05-14T08:52:15.911605Z"
    }
   },
   "outputs": [],
   "source": [
    "class Banking:\n",
    "    Intrastrate= 0.06\n",
    "    def __init__(self,account_name,account_number,IFSC,CIF,type_of_account,address,contact_number):\n",
    "        self.account_name = account_name\n",
    "        self.account_number = account_number\n",
    "        self.IFSC = IFSC\n",
    "        self.CIF = CIF\n",
    "        self.type_of_account = type_of_account\n",
    "        \n",
    "        self.address = address\n",
    "        self.contact_number = contact_number\n",
    "        self.balance = 0  \n",
    "        self.account_statement = []\n",
    "        \n",
    "    def transaction(self,amount):\n",
    "        if self.balance< amount:\n",
    "            print(f\"sorry! you have incufficient balance\")\n",
    "            print(f\"your balance is {self.balance}\")\n",
    "        else:\n",
    "            print(f\"transaction of {amount} is successfull\")\n",
    "            self.balance-=amount\n",
    "            print(f\"your balance is {self.balance}\")\n",
    "            d = {\"type_\":\"dabit\",\"trans_amount\": amount,\"user_balance\":self.balance}\n",
    "            self.account_statement.append(d)\n",
    "        \n",
    "    def deposit(self,amount):\n",
    "            print(f\"{amount} is successfully deposited\")\n",
    "            self.balance+=amount\n",
    "            print(f\"your final balance is {self.balance}\")\n",
    "            d = {\"type_\":\"credit\",\"trans_amount\": amount,\"user_balance\":self.balance}\n",
    "            self.account_statement.append(d)\n",
    "            \n",
    "    def apply_Interest(self,date):\n",
    "        self.date = date \n",
    "        if self.balance >60000:\n",
    "            interest= self.balance*banking.interest_rate\n",
    "            self.balance+=interest\n",
    "            d = {\"date\":self.date,\"type_\":\"interest credit\",\"interest amount\":interest,\"user_balance\":self.balance}\n",
    "            self.account_statement.append(d)\n",
    "        "
   ]
  },
  {
   "cell_type": "code",
   "execution_count": 33,
   "id": "782fee8c",
   "metadata": {
    "ExecuteTime": {
     "end_time": "2024-05-14T08:52:18.354765Z",
     "start_time": "2024-05-14T08:52:18.350220Z"
    }
   },
   "outputs": [],
   "source": [
    "shree = Banking(\"shree vish\",\"1234567\",\"SBI********\",\"EXD********\",\"current\",\"*******\",\"********89\")\n",
    "neelam = Banking(\"neelam soni\",\"1234567\",\"PNB********\",\"EXD********\",\"saving\",\"*******\",\"********99\")\n",
    "shweta = Banking(\"shweta sigh\",\"1234567\",\"HDFC*******\",\"EXD********\",\"saving\",\"*******\",\"********79\")"
   ]
  },
  {
   "cell_type": "code",
   "execution_count": 35,
   "id": "fd576685",
   "metadata": {
    "ExecuteTime": {
     "end_time": "2024-05-14T08:52:57.196400Z",
     "start_time": "2024-05-14T08:52:57.190683Z"
    }
   },
   "outputs": [
    {
     "data": {
      "text/plain": [
       "0"
      ]
     },
     "execution_count": 35,
     "metadata": {},
     "output_type": "execute_result"
    }
   ],
   "source": [
    "shree.balance"
   ]
  },
  {
   "cell_type": "code",
   "execution_count": 36,
   "id": "9becda7d",
   "metadata": {
    "ExecuteTime": {
     "end_time": "2024-05-14T08:52:59.146207Z",
     "start_time": "2024-05-14T08:52:59.142342Z"
    }
   },
   "outputs": [
    {
     "name": "stdout",
     "output_type": "stream",
     "text": [
      "sorry! you have incufficient balance\n",
      "your balance is 0\n"
     ]
    }
   ],
   "source": [
    "shree.transaction(5000) "
   ]
  },
  {
   "cell_type": "code",
   "execution_count": 37,
   "id": "c02721e0",
   "metadata": {
    "ExecuteTime": {
     "end_time": "2024-05-14T08:53:03.224976Z",
     "start_time": "2024-05-14T08:53:03.221508Z"
    }
   },
   "outputs": [
    {
     "name": "stdout",
     "output_type": "stream",
     "text": [
      "1000 is successfully deposited\n",
      "your final balance is 1000\n"
     ]
    }
   ],
   "source": [
    "shree.deposit(1000)"
   ]
  },
  {
   "cell_type": "code",
   "execution_count": 38,
   "id": "179e3e2a",
   "metadata": {
    "ExecuteTime": {
     "end_time": "2024-05-14T08:53:05.960377Z",
     "start_time": "2024-05-14T08:53:05.957728Z"
    }
   },
   "outputs": [
    {
     "name": "stdout",
     "output_type": "stream",
     "text": [
      "10000 is successfully deposited\n",
      "your final balance is 10000\n",
      "150000 is successfully deposited\n",
      "your final balance is 160000\n"
     ]
    }
   ],
   "source": [
    "shweta.deposit(10000)\n",
    "shweta.deposit(150000)\n"
   ]
  },
  {
   "cell_type": "code",
   "execution_count": 106,
   "id": "063fecef",
   "metadata": {
    "ExecuteTime": {
     "end_time": "2024-05-12T10:52:59.536332Z",
     "start_time": "2024-05-12T10:52:59.531445Z"
    }
   },
   "outputs": [
    {
     "data": {
      "text/plain": [
       "160000"
      ]
     },
     "execution_count": 106,
     "metadata": {},
     "output_type": "execute_result"
    }
   ],
   "source": [
    "shweta.balance"
   ]
  },
  {
   "cell_type": "code",
   "execution_count": 39,
   "id": "933f4d43",
   "metadata": {
    "ExecuteTime": {
     "end_time": "2024-05-14T08:53:08.737575Z",
     "start_time": "2024-05-14T08:53:08.732977Z"
    }
   },
   "outputs": [
    {
     "data": {
      "text/plain": [
       "[{'type_': 'credit', 'trans_amount': 10000, 'user_balance': 10000},\n",
       " {'type_': 'credit', 'trans_amount': 150000, 'user_balance': 160000}]"
      ]
     },
     "execution_count": 39,
     "metadata": {},
     "output_type": "execute_result"
    }
   ],
   "source": [
    "shweta.account_statement"
   ]
  },
  {
   "cell_type": "code",
   "execution_count": 40,
   "id": "46d08e04",
   "metadata": {
    "ExecuteTime": {
     "end_time": "2024-05-14T08:53:16.291196Z",
     "start_time": "2024-05-14T08:53:16.286251Z"
    }
   },
   "outputs": [
    {
     "data": {
      "text/plain": [
       "0"
      ]
     },
     "execution_count": 40,
     "metadata": {},
     "output_type": "execute_result"
    }
   ],
   "source": [
    "neelam.balance"
   ]
  },
  {
   "cell_type": "code",
   "execution_count": 41,
   "id": "0f784ea7",
   "metadata": {
    "ExecuteTime": {
     "end_time": "2024-05-14T08:53:17.914920Z",
     "start_time": "2024-05-14T08:53:17.910464Z"
    }
   },
   "outputs": [
    {
     "name": "stdout",
     "output_type": "stream",
     "text": [
      "100 is successfully deposited\n",
      "your final balance is 100\n"
     ]
    }
   ],
   "source": [
    "neelam.deposit(100)"
   ]
  },
  {
   "cell_type": "code",
   "execution_count": 42,
   "id": "94f37f2c",
   "metadata": {
    "ExecuteTime": {
     "end_time": "2024-05-14T08:53:19.403711Z",
     "start_time": "2024-05-14T08:53:19.398340Z"
    }
   },
   "outputs": [
    {
     "data": {
      "text/plain": [
       "[{'type_': 'credit', 'trans_amount': 1000, 'user_balance': 1000}]"
      ]
     },
     "execution_count": 42,
     "metadata": {},
     "output_type": "execute_result"
    }
   ],
   "source": [
    "shree.account_statement"
   ]
  },
  {
   "cell_type": "code",
   "execution_count": 116,
   "id": "a5d385fe",
   "metadata": {
    "ExecuteTime": {
     "end_time": "2024-05-12T10:55:34.566342Z",
     "start_time": "2024-05-12T10:55:34.561752Z"
    }
   },
   "outputs": [
    {
     "data": {
      "text/plain": [
       "[{'type_': 'credit', 'trans_amount': 15400000, 'user_balance': 15400000}]"
      ]
     },
     "execution_count": 116,
     "metadata": {},
     "output_type": "execute_result"
    }
   ],
   "source": [
    "neelam.account_statement"
   ]
  },
  {
   "cell_type": "code",
   "execution_count": 43,
   "id": "cc80a7fb",
   "metadata": {
    "ExecuteTime": {
     "end_time": "2024-05-14T08:53:21.459301Z",
     "start_time": "2024-05-14T08:53:21.454326Z"
    }
   },
   "outputs": [
    {
     "data": {
      "text/plain": [
       "[{'type_': 'credit', 'trans_amount': 100, 'user_balance': 100}]"
      ]
     },
     "execution_count": 43,
     "metadata": {},
     "output_type": "execute_result"
    }
   ],
   "source": [
    "neelam.account_statement[-4:]"
   ]
  },
  {
   "cell_type": "code",
   "execution_count": 44,
   "id": "d18fcb5f",
   "metadata": {
    "ExecuteTime": {
     "end_time": "2024-05-14T08:53:23.474876Z",
     "start_time": "2024-05-14T08:53:23.470575Z"
    }
   },
   "outputs": [
    {
     "data": {
      "text/plain": [
       "[{'type_': 'credit', 'trans_amount': 1000, 'user_balance': 1000}]"
      ]
     },
     "execution_count": 44,
     "metadata": {},
     "output_type": "execute_result"
    }
   ],
   "source": [
    "shree.account_statement[-5:]"
   ]
  },
  {
   "cell_type": "code",
   "execution_count": 13,
   "id": "c9fe44de",
   "metadata": {
    "ExecuteTime": {
     "end_time": "2024-05-14T08:07:50.957789Z",
     "start_time": "2024-05-14T08:07:50.954213Z"
    }
   },
   "outputs": [],
   "source": [
    "neelam.apply_Interest(\"04-04-2024\")"
   ]
  },
  {
   "cell_type": "code",
   "execution_count": 14,
   "id": "4f8cb0b6",
   "metadata": {
    "ExecuteTime": {
     "end_time": "2024-05-14T08:07:59.127233Z",
     "start_time": "2024-05-14T08:07:59.122023Z"
    }
   },
   "outputs": [
    {
     "data": {
      "text/plain": [
       "200"
      ]
     },
     "execution_count": 14,
     "metadata": {},
     "output_type": "execute_result"
    }
   ],
   "source": [
    "neelam.balance"
   ]
  },
  {
   "cell_type": "code",
   "execution_count": 15,
   "id": "8cb74435",
   "metadata": {
    "ExecuteTime": {
     "end_time": "2024-05-14T08:08:13.989709Z",
     "start_time": "2024-05-14T08:08:13.985721Z"
    }
   },
   "outputs": [
    {
     "name": "stdout",
     "output_type": "stream",
     "text": [
      "100 is successfully deposited\n",
      "your final balance is 300\n"
     ]
    }
   ],
   "source": [
    "neelam.deposit(100)"
   ]
  },
  {
   "cell_type": "code",
   "execution_count": 17,
   "id": "3b91481a",
   "metadata": {
    "ExecuteTime": {
     "end_time": "2024-05-14T08:09:22.685215Z",
     "start_time": "2024-05-14T08:09:22.681794Z"
    }
   },
   "outputs": [],
   "source": [
    "shree.apply_Interest(\"14-5-2024\") "
   ]
  },
  {
   "cell_type": "code",
   "execution_count": 18,
   "id": "ad2b8ca4",
   "metadata": {
    "ExecuteTime": {
     "end_time": "2024-05-14T08:09:32.446466Z",
     "start_time": "2024-05-14T08:09:32.428609Z"
    }
   },
   "outputs": [
    {
     "data": {
      "text/plain": [
       "0"
      ]
     },
     "execution_count": 18,
     "metadata": {},
     "output_type": "execute_result"
    }
   ],
   "source": [
    "shree.balance"
   ]
  },
  {
   "cell_type": "code",
   "execution_count": 45,
   "id": "328abe1f",
   "metadata": {
    "ExecuteTime": {
     "end_time": "2024-05-14T08:53:30.610437Z",
     "start_time": "2024-05-14T08:53:30.606447Z"
    }
   },
   "outputs": [
    {
     "name": "stdout",
     "output_type": "stream",
     "text": [
      "15000 is successfully deposited\n",
      "your final balance is 16000\n"
     ]
    }
   ],
   "source": [
    "shree.deposit(15000) "
   ]
  },
  {
   "cell_type": "code",
   "execution_count": 46,
   "id": "d50364ef",
   "metadata": {
    "ExecuteTime": {
     "end_time": "2024-05-14T08:53:32.306120Z",
     "start_time": "2024-05-14T08:53:32.302525Z"
    }
   },
   "outputs": [
    {
     "name": "stdout",
     "output_type": "stream",
     "text": [
      "transaction of 15 is successfull\n",
      "your balance is 15985\n"
     ]
    }
   ],
   "source": [
    "shree.transaction(15)"
   ]
  },
  {
   "cell_type": "code",
   "execution_count": 47,
   "id": "f8d30025",
   "metadata": {
    "ExecuteTime": {
     "end_time": "2024-05-14T08:53:34.515986Z",
     "start_time": "2024-05-14T08:53:34.510532Z"
    }
   },
   "outputs": [
    {
     "data": {
      "text/plain": [
       "15985"
      ]
     },
     "execution_count": 47,
     "metadata": {},
     "output_type": "execute_result"
    }
   ],
   "source": [
    "shree.balance"
   ]
  },
  {
   "cell_type": "code",
   "execution_count": 48,
   "id": "29be8b92",
   "metadata": {
    "ExecuteTime": {
     "end_time": "2024-05-14T08:53:36.505961Z",
     "start_time": "2024-05-14T08:53:36.502439Z"
    }
   },
   "outputs": [],
   "source": [
    "shree.apply_Interest(\"15-12-2024\")"
   ]
  },
  {
   "cell_type": "code",
   "execution_count": 49,
   "id": "9cc76aaa",
   "metadata": {
    "ExecuteTime": {
     "end_time": "2024-05-14T08:53:38.962789Z",
     "start_time": "2024-05-14T08:53:38.957914Z"
    }
   },
   "outputs": [
    {
     "data": {
      "text/plain": [
       "15985"
      ]
     },
     "execution_count": 49,
     "metadata": {},
     "output_type": "execute_result"
    }
   ],
   "source": [
    "shree.balance"
   ]
  },
  {
   "cell_type": "code",
   "execution_count": 79,
   "id": "6a39fcd0",
   "metadata": {
    "ExecuteTime": {
     "end_time": "2024-05-14T10:33:47.444082Z",
     "start_time": "2024-05-14T10:33:47.438126Z"
    }
   },
   "outputs": [],
   "source": [
    "class loanaccount(Banking):\n",
    "    rate_of_interest = 0.24\n",
    "    def __init__(self,account_number,loan_amount,account_name):\n",
    "        \n",
    "        self.loan_amount = loan_amount\n",
    "        interest = loan_amount*loanaccount.rate_of_interest\n",
    "        self.payable_amount= loan_amount*interest\n",
    "        \n",
    "    def approve_loan(self):\n",
    "        if self.balance>loan_amount:\n",
    "            print(f\"congrats your loan has been passed\")\n",
    "            print(f\"your {loan_amount} has been successfully disbursed to your {self.account_number}\")\n",
    "            interest = loan_amount*rate_of_interest\n",
    "            self.payable_amount= loan_amount*interest\n",
    "    \n",
    "    def repay_amount(self,amount_):\n",
    "        self.payable_amount -= amount_\n",
    "        print(f\"payment of {amount_} was successful\")\n",
    "        print(f\"payable amount is {self.payable_amount}\")\n",
    "     "
   ]
  },
  {
   "cell_type": "code",
   "execution_count": 80,
   "id": "2a7798f2",
   "metadata": {
    "ExecuteTime": {
     "end_time": "2024-05-14T10:33:48.971007Z",
     "start_time": "2024-05-14T10:33:48.966267Z"
    }
   },
   "outputs": [
    {
     "data": {
      "text/plain": [
       "'1234567'"
      ]
     },
     "execution_count": 80,
     "metadata": {},
     "output_type": "execute_result"
    }
   ],
   "source": [
    "shree.account_number"
   ]
  },
  {
   "cell_type": "code",
   "execution_count": 85,
   "id": "8cd2419e",
   "metadata": {
    "ExecuteTime": {
     "end_time": "2024-05-14T10:34:41.225890Z",
     "start_time": "2024-05-14T10:34:41.222091Z"
    }
   },
   "outputs": [],
   "source": [
    "shree = loanaccount(\"1234567\",6000,\"shree vish\")"
   ]
  },
  {
   "cell_type": "code",
   "execution_count": 86,
   "id": "ea3c0e25",
   "metadata": {
    "ExecuteTime": {
     "end_time": "2024-05-14T10:34:43.369947Z",
     "start_time": "2024-05-14T10:34:43.365992Z"
    }
   },
   "outputs": [
    {
     "name": "stdout",
     "output_type": "stream",
     "text": [
      "payment of 500 was successful\n",
      "payable amount is 8639500.0\n"
     ]
    }
   ],
   "source": [
    "shree.repay_amount(500)"
   ]
  },
  {
   "cell_type": "code",
   "execution_count": null,
   "id": "4e5e4f2b",
   "metadata": {},
   "outputs": [],
   "source": []
  },
  {
   "cell_type": "code",
   "execution_count": null,
   "id": "db7044c1",
   "metadata": {},
   "outputs": [],
   "source": []
  },
  {
   "cell_type": "code",
   "execution_count": null,
   "id": "1c896719",
   "metadata": {},
   "outputs": [],
   "source": []
  }
 ],
 "metadata": {
  "kernelspec": {
   "display_name": "Python 3 (ipykernel)",
   "language": "python",
   "name": "python3"
  },
  "language_info": {
   "codemirror_mode": {
    "name": "ipython",
    "version": 3
   },
   "file_extension": ".py",
   "mimetype": "text/x-python",
   "name": "python",
   "nbconvert_exporter": "python",
   "pygments_lexer": "ipython3",
   "version": "3.11.4"
  }
 },
 "nbformat": 4,
 "nbformat_minor": 5
}
